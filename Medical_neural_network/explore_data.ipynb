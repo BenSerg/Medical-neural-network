{
 "cells": [
  {
   "cell_type": "code",
   "metadata": {
    "ExecuteTime": {
     "end_time": "2024-05-03T10:34:59.962699Z",
     "start_time": "2024-05-03T10:34:59.630806Z"
    }
   },
   "source": [
    "%matplotlib inline\n",
    "import numpy as np"
   ],
   "outputs": [],
   "execution_count": 1
  },
  {
   "cell_type": "code",
   "metadata": {
    "ExecuteTime": {
     "end_time": "2024-05-03T10:35:01.721594Z",
     "start_time": "2024-05-03T10:34:59.963483Z"
    }
   },
   "source": [
    "from dsets import getCandidateInfoList, getCt, LunaDataset\n",
    "candidateInfo_list = getCandidateInfoList(requireOnDisk_bool=False)\n",
    "positiveInfo_list = [x for x in candidateInfo_list if x[0]]\n",
    "diameter_list = [x[1] for x in positiveInfo_list]"
   ],
   "outputs": [
    {
     "ename": "TypeError",
     "evalue": "unsupported operand type(s) for +: 'NoneType' and 'str'",
     "output_type": "error",
     "traceback": [
      "\u001B[0;31m---------------------------------------------------------------------------\u001B[0m",
      "\u001B[0;31mTypeError\u001B[0m                                 Traceback (most recent call last)",
      "Cell \u001B[0;32mIn[2], line 2\u001B[0m\n\u001B[1;32m      1\u001B[0m \u001B[38;5;28;01mfrom\u001B[39;00m \u001B[38;5;21;01mdsets\u001B[39;00m \u001B[38;5;28;01mimport\u001B[39;00m getCandidateInfoList, getCt, LunaDataset\n\u001B[0;32m----> 2\u001B[0m candidateInfo_list \u001B[38;5;241m=\u001B[39m getCandidateInfoList(requireOnDisk_bool\u001B[38;5;241m=\u001B[39m\u001B[38;5;28;01mFalse\u001B[39;00m)\n\u001B[1;32m      3\u001B[0m positiveInfo_list \u001B[38;5;241m=\u001B[39m [x \u001B[38;5;28;01mfor\u001B[39;00m x \u001B[38;5;129;01min\u001B[39;00m candidateInfo_list \u001B[38;5;28;01mif\u001B[39;00m x[\u001B[38;5;241m0\u001B[39m]]\n\u001B[1;32m      4\u001B[0m diameter_list \u001B[38;5;241m=\u001B[39m [x[\u001B[38;5;241m1\u001B[39m] \u001B[38;5;28;01mfor\u001B[39;00m x \u001B[38;5;129;01min\u001B[39;00m positiveInfo_list]\n",
      "File \u001B[0;32m~/PycharmProjects/Medical-neural-network/Medical_neural_network/dsets.py:39\u001B[0m, in \u001B[0;36mgetCandidateInfoList\u001B[0;34m(requireOnDisk_bool)\u001B[0m\n\u001B[1;32m     34\u001B[0m \u001B[38;5;129m@functools\u001B[39m\u001B[38;5;241m.\u001B[39mlru_cache(\u001B[38;5;241m1\u001B[39m)\n\u001B[1;32m     35\u001B[0m \u001B[38;5;28;01mdef\u001B[39;00m \u001B[38;5;21mgetCandidateInfoList\u001B[39m(requireOnDisk_bool\u001B[38;5;241m=\u001B[39m\u001B[38;5;28;01mTrue\u001B[39;00m):\n\u001B[1;32m     36\u001B[0m     \u001B[38;5;66;03m# We construct a set with all series_uids that are present on disk.\u001B[39;00m\n\u001B[1;32m     37\u001B[0m     \u001B[38;5;66;03m# This will let us use the data, even if we haven't downloaded all of\u001B[39;00m\n\u001B[1;32m     38\u001B[0m     \u001B[38;5;66;03m# the subsets yet.\u001B[39;00m\n\u001B[0;32m---> 39\u001B[0m     mhd_list \u001B[38;5;241m=\u001B[39m glob\u001B[38;5;241m.\u001B[39mglob(data_path \u001B[38;5;241m+\u001B[39m \u001B[38;5;124m'\u001B[39m\u001B[38;5;124mluna/subset*/*.mhd\u001B[39m\u001B[38;5;124m'\u001B[39m)\n\u001B[1;32m     40\u001B[0m     presentOnDisk_set \u001B[38;5;241m=\u001B[39m {os\u001B[38;5;241m.\u001B[39mpath\u001B[38;5;241m.\u001B[39msplit(p)[\u001B[38;5;241m-\u001B[39m\u001B[38;5;241m1\u001B[39m][:\u001B[38;5;241m-\u001B[39m\u001B[38;5;241m4\u001B[39m] \u001B[38;5;28;01mfor\u001B[39;00m p \u001B[38;5;129;01min\u001B[39;00m mhd_list}\n\u001B[1;32m     42\u001B[0m     diameter_dict \u001B[38;5;241m=\u001B[39m {}\n",
      "\u001B[0;31mTypeError\u001B[0m: unsupported operand type(s) for +: 'NoneType' and 'str'"
     ]
    }
   ],
   "execution_count": 2
  },
  {
   "cell_type": "code",
   "metadata": {
    "ExecuteTime": {
     "end_time": "2024-05-03T10:35:01.722819Z",
     "start_time": "2024-05-03T10:35:01.722729Z"
    }
   },
   "source": [
    "print(len(positiveInfo_list))\n",
    "print(positiveInfo_list[0])"
   ],
   "outputs": [],
   "execution_count": null
  },
  {
   "cell_type": "code",
   "metadata": {},
   "source": [
    "for i in range(0, len(diameter_list), 100):\n",
    "    print('{:4}  {:4.1f} mm'.format(i, diameter_list[i]))"
   ],
   "outputs": [],
   "execution_count": null
  },
  {
   "cell_type": "code",
   "metadata": {},
   "source": [
    "for candidateInfo_tup in positiveInfo_list[:10]:\n",
    "    print(candidateInfo_tup)\n",
    "for candidateInfo_tup in positiveInfo_list[-10:]:\n",
    "    print(candidateInfo_tup)\n",
    "    \n",
    "for candidateInfo_tup in positiveInfo_list:\n",
    "    if candidateInfo_tup.series_uid.endswith('565'):\n",
    "        print(candidateInfo_tup)"
   ],
   "outputs": [],
   "execution_count": null
  },
  {
   "cell_type": "code",
   "metadata": {},
   "source": [
    "np.histogram(diameter_list)"
   ],
   "outputs": [],
   "execution_count": null
  },
  {
   "cell_type": "code",
   "metadata": {},
   "source": [
    "from vis import findPositiveSamples, showCandidate\n",
    "positiveSample_list = findPositiveSamples()"
   ],
   "outputs": [],
   "execution_count": null
  },
  {
   "cell_type": "code",
   "metadata": {},
   "source": [
    "%matplotlib inline\n",
    "series_uid = positiveSample_list[11][2]\n",
    "showCandidate(series_uid)"
   ],
   "outputs": [],
   "execution_count": null
  },
  {
   "cell_type": "code",
   "metadata": {},
   "source": [
    "series_uid = '1.3.6.1.4.1.14519.5.2.1.6279.6001.124154461048929153767743874565'\n",
    "showCandidate(series_uid)"
   ],
   "outputs": [],
   "execution_count": null
  },
  {
   "cell_type": "code",
   "metadata": {},
   "source": [
    "series_uid = '1.3.6.1.4.1.14519.5.2.1.6279.6001.126264578931778258890371755354'\n",
    "showCandidate(series_uid)"
   ],
   "outputs": [],
   "execution_count": null
  },
  {
   "cell_type": "code",
   "metadata": {},
   "source": [
    "LunaDataset()[0]"
   ],
   "outputs": [],
   "execution_count": null
  },
  {
   "cell_type": "code",
   "metadata": {},
   "source": [
    "import numpy as np\n",
    "import ipyvolume as ipv\n",
    "V = np.zeros((128,128,128)) # our 3d array\n",
    "# outer box\n",
    "V[30:-30,30:-30,30:-30] = 0.75\n",
    "V[35:-35,35:-35,35:-35] = 0.0\n",
    "# inner box\n",
    "V[50:-50,50:-50,50:-50] = 0.25\n",
    "V[55:-55,55:-55,55:-55] = 0.0\n",
    "ipv.quickvolshow(V, level=[0.25, 0.75], opacity=0.03, level_width=0.1, data_min=0, data_max=1)\n"
   ],
   "outputs": [],
   "execution_count": null
  },
  {
   "cell_type": "code",
   "metadata": {},
   "source": [
    "ct = getCt(series_uid)\n",
    "ipv.quickvolshow(ct.hu_a, level=[0.25, 0.5, 0.9], opacity=0.1, level_width=0.1, data_min=-1000, data_max=1000)"
   ],
   "outputs": [],
   "execution_count": null
  },
  {
   "cell_type": "markdown",
   "metadata": {},
   "source": [
    "# Note: the following visualization doesn't look very good.\n",
    "It's only included here for completeness. "
   ]
  },
  {
   "cell_type": "code",
   "metadata": {},
   "source": [
    "import scipy.ndimage.morphology\n",
    "def build2dLungMask(ct, mask_ndx, threshold_gcc = 0.7):\n",
    "    dense_mask = ct.hu_a[mask_ndx] > threshold_gcc\n",
    "    denoise_mask = scipy.ndimage.morphology.binary_closing(dense_mask, iterations=2)\n",
    "    tissue_mask = scipy.ndimage.morphology.binary_opening(denoise_mask, iterations=10)\n",
    "    body_mask = scipy.ndimage.morphology.binary_fill_holes(tissue_mask)\n",
    "    air_mask = scipy.ndimage.morphology.binary_fill_holes(body_mask & ~tissue_mask)\n",
    "\n",
    "    lung_mask = scipy.ndimage.morphology.binary_dilation(air_mask, iterations=2)\n",
    "\n",
    "    return air_mask, lung_mask, dense_mask, denoise_mask, tissue_mask, body_mask\n",
    "\n",
    "\n",
    "def build3dLungMask(ct):\n",
    "    air_mask, lung_mask, dense_mask, denoise_mask, tissue_mask, body_mask = mask_list = \\\n",
    "        [np.zeros_like(ct.hu_a, dtype=np.bool_) for _ in range(6)]\n",
    "\n",
    "    for mask_ndx in range(ct.hu_a.shape[0]):\n",
    "        for i, mask_ary in enumerate(build2dLungMask(ct, mask_ndx)):\n",
    "            mask_list[i][mask_ndx] = mask_ary\n",
    "\n",
    "    return air_mask, lung_mask, dense_mask, denoise_mask, tissue_mask, body_mask"
   ],
   "outputs": [],
   "execution_count": null
  },
  {
   "cell_type": "code",
   "metadata": {},
   "source": [
    "from dsets import getCt\n",
    "ct = getCt(series_uid)\n",
    "air_mask, lung_mask, dense_mask, denoise_mask, tissue_mask, body_mask = build3dLungMask(ct)\n"
   ],
   "outputs": [],
   "execution_count": null
  },
  {
   "cell_type": "code",
   "metadata": {},
   "source": [
    "bones = ct.hu_a * (ct.hu_a > 1.5)\n",
    "lungs = ct.hu_a * air_mask\n",
    "ipv.figure()\n",
    "ipv.pylab.volshow(bones + lungs, level=[0.17, 0.17, 0.23], data_min=100, data_max=900)\n",
    "ipv.show()"
   ],
   "outputs": [],
   "execution_count": null
  },
  {
   "cell_type": "code",
   "metadata": {},
   "source": [],
   "outputs": [],
   "execution_count": null
  }
 ],
 "metadata": {
  "kernelspec": {
   "display_name": "Python 3 (ipykernel)",
   "language": "python",
   "name": "python3"
  },
  "language_info": {
   "codemirror_mode": {
    "name": "ipython",
    "version": 3
   },
   "file_extension": ".py",
   "mimetype": "text/x-python",
   "name": "python",
   "nbconvert_exporter": "python",
   "pygments_lexer": "ipython3",
   "version": "3.11.8"
  }
 },
 "nbformat": 4,
 "nbformat_minor": 4
}
