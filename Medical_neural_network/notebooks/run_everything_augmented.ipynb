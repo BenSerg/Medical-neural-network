{
 "cells": [
  {
   "cell_type": "code",
   "execution_count": 5,
   "id": "aa06a70b-fb7b-4b33-9782-ec8eb6013673",
   "metadata": {},
   "source": [
    "import multiprocessing\n",
    "\n",
    "from Medical_neural_network.util.util import importstr\n",
    "from Medical_neural_network.util.logconf import logging\n",
    "log = logging.getLogger('nb')"
   ],
   "outputs": []
  },
  {
   "cell_type": "code",
   "execution_count": 6,
   "id": "c5cfe580-6cc5-4e18-9868-533826e607a2",
   "metadata": {},
   "source": [
    "def run(app, *argv):\n",
    "    argv = list(argv)\n",
    "    argv.insert(0, f'--num-workers={multiprocessing.cpu_count()}')\n",
    "    log.info(f\"Running: {app}({argv!r}).main()\")\n",
    "\n",
    "    app_cls = importstr(*app.rsplit('.', 1))\n",
    "    app_cls(argv).main()\n",
    "\n",
    "    log.info(f\"Finished: {app}.{argv!r}.main()\")"
   ],
   "outputs": []
  },
  {
   "cell_type": "code",
   "execution_count": 9,
   "id": "fbd497ed8cea8f2d",
   "metadata": {},
   "source": [
    "training_epochs = 2\n",
    "experiment_epochs = 2"
   ],
   "outputs": []
  },
  {
   "cell_type": "code",
   "execution_count": 4,
   "id": "62fa8155-f74d-4ccf-a3b0-69b577e3cbea",
   "metadata": {},
   "source": [
    "run('prepcache.LunaPrepCacheApp')"
   ],
   "outputs": []
  },
  {
   "cell_type": "code",
   "execution_count": 10,
   "id": "37ec535f",
   "metadata": {},
   "source": [
    "run('training.LunaTrainingApp', '--epochs=1', 'unbalanced')"
   ],
   "outputs": []
  },
  {
   "cell_type": "code",
   "execution_count": 11,
   "id": "8c3db7c9",
   "metadata": {},
   "source": [
    "run('training.LunaTrainingApp', f'--epochs={training_epochs}', '--balanced', 'balanced')"
   ],
   "outputs": []
  },
  {
   "cell_type": "code",
   "execution_count": 12,
   "id": "6eb82947",
   "metadata": {},
   "source": [
    "run('training.LunaTrainingApp', f'--epochs={experiment_epochs}', '--balanced', '--augment-flip', 'flip')"
   ],
   "outputs": []
  },
  {
   "cell_type": "code",
   "execution_count": 13,
   "id": "57be9637",
   "metadata": {},
   "source": [
    "run('training.LunaTrainingApp', f'--epochs={experiment_epochs}', '--balanced', '--augment-offset', 'offset')"
   ],
   "outputs": []
  },
  {
   "cell_type": "code",
   "execution_count": 14,
   "id": "59a98883",
   "metadata": {},
   "source": [
    "run('training.LunaTrainingApp', f'--epochs={experiment_epochs}', '--balanced', '--augment-scale', 'scale')"
   ],
   "outputs": []
  },
  {
   "cell_type": "code",
   "execution_count": 15,
   "id": "aebd5dd2",
   "metadata": {},
   "source": [
    "run('training.LunaTrainingApp', f'--epochs={experiment_epochs}', '--balanced', '--augment-rotate', 'rotate')"
   ],
   "outputs": []
  },
  {
   "cell_type": "code",
   "execution_count": 16,
   "id": "3269483d",
   "metadata": {},
   "source": [
    "run('training.LunaTrainingApp', f'--epochs={experiment_epochs}', '--balanced', '--augment-noise', 'noise')"
   ],
   "outputs": []
  },
  {
   "cell_type": "code",
   "execution_count": 17,
   "id": "22193196",
   "metadata": {},
   "source": [
    "run('training.LunaTrainingApp', f'--epochs={training_epochs}', '--balanced', '--augmented', 'fully-augmented')"
   ],
   "outputs": []
  }
 ],
 "metadata": {
  "kernelspec": {
   "display_name": "Python 3 (ipykernel)",
   "language": "python",
   "name": "python3"
  },
  "language_info": {
   "codemirror_mode": {
    "name": "ipython",
    "version": 3
   },
   "file_extension": ".py",
   "mimetype": "text/x-python",
   "name": "python",
   "nbconvert_exporter": "python",
   "pygments_lexer": "ipython3",
   "version": "3.10.11"
  }
 },
 "nbformat": 4,
 "nbformat_minor": 5
}
