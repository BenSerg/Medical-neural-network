{
 "cells": [
  {
   "cell_type": "code",
   "execution_count": 4,
   "id": "aa06a70b-fb7b-4b33-9782-ec8eb6013673",
   "metadata": {},
   "outputs": [],
   "source": [
    "import multiprocessing\n",
    "\n",
    "from util.util import importstr\n",
    "from util.logconf import logging\n",
    "log = logging.getLogger('nb')"
   ]
  },
  {
   "cell_type": "code",
   "execution_count": 5,
   "id": "c5cfe580-6cc5-4e18-9868-533826e607a2",
   "metadata": {},
   "outputs": [],
   "source": [
    "def run(app, *argv):\n",
    "    argv = list(argv)\n",
    "    argv.insert(0, f'--num-workers={multiprocessing.cpu_count()}')\n",
    "    log.info(f\"Running: {app}({argv!r}).main()\")\n",
    "\n",
    "    app_cls = importstr(*app.rsplit('.', 1))\n",
    "    app_cls(argv).main()\n",
    "\n",
    "    log.info(f\"Finished: {app}.{argv!r}.main()\")"
   ]
  },
  {
   "metadata": {},
   "cell_type": "code",
   "outputs": [],
   "execution_count": null,
   "source": [
    "training_epochs = 20\n",
    "experiment_epochs = 10\n",
    "final_epochs = 50"
   ],
   "id": "fbd497ed8cea8f2d"
  },
  {
   "cell_type": "code",
   "execution_count": 6,
   "id": "62fa8155-f74d-4ccf-a3b0-69b577e3cbea",
   "metadata": {},
   "outputs": [
    {
     "name": "stderr",
     "output_type": "stream",
     "text": [
      "2024-05-03 13:28:03,048 INFO     pid:7600 nb:004:run Running: training.LunaTrainingApp(['--num-workers=12', '--epochs=1']).main()\n"
     ]
    },
    {
     "ename": "ImportError",
     "evalue": "attempted relative import with no known parent package",
     "output_type": "error",
     "traceback": [
      "\u001B[0;31m---------------------------------------------------------------------------\u001B[0m",
      "\u001B[0;31mImportError\u001B[0m                               Traceback (most recent call last)",
      "Cell \u001B[0;32mIn[6], line 1\u001B[0m\n\u001B[0;32m----> 1\u001B[0m run(\u001B[38;5;124m'\u001B[39m\u001B[38;5;124mtraining.LunaTrainingApp\u001B[39m\u001B[38;5;124m'\u001B[39m, \u001B[38;5;124m'\u001B[39m\u001B[38;5;124m--epochs=1\u001B[39m\u001B[38;5;124m'\u001B[39m)\n",
      "Cell \u001B[0;32mIn[5], line 6\u001B[0m, in \u001B[0;36mrun\u001B[0;34m(app, *argv)\u001B[0m\n\u001B[1;32m      3\u001B[0m argv\u001B[38;5;241m.\u001B[39minsert(\u001B[38;5;241m0\u001B[39m, \u001B[38;5;124mf\u001B[39m\u001B[38;5;124m'\u001B[39m\u001B[38;5;124m--num-workers=\u001B[39m\u001B[38;5;132;01m{\u001B[39;00mmultiprocessing\u001B[38;5;241m.\u001B[39mcpu_count()\u001B[38;5;132;01m}\u001B[39;00m\u001B[38;5;124m'\u001B[39m)\n\u001B[1;32m      4\u001B[0m log\u001B[38;5;241m.\u001B[39minfo(\u001B[38;5;124mf\u001B[39m\u001B[38;5;124m\"\u001B[39m\u001B[38;5;124mRunning: \u001B[39m\u001B[38;5;132;01m{\u001B[39;00mapp\u001B[38;5;132;01m}\u001B[39;00m\u001B[38;5;124m(\u001B[39m\u001B[38;5;132;01m{\u001B[39;00margv\u001B[38;5;132;01m!r}\u001B[39;00m\u001B[38;5;124m).main()\u001B[39m\u001B[38;5;124m\"\u001B[39m)\n\u001B[0;32m----> 6\u001B[0m app_cls \u001B[38;5;241m=\u001B[39m importstr(\u001B[38;5;241m*\u001B[39mapp\u001B[38;5;241m.\u001B[39mrsplit(\u001B[38;5;124m'\u001B[39m\u001B[38;5;124m.\u001B[39m\u001B[38;5;124m'\u001B[39m, \u001B[38;5;241m1\u001B[39m))\n\u001B[1;32m      7\u001B[0m app_cls(argv)\u001B[38;5;241m.\u001B[39mmain()\n\u001B[1;32m      9\u001B[0m log\u001B[38;5;241m.\u001B[39minfo(\u001B[38;5;124mf\u001B[39m\u001B[38;5;124m\"\u001B[39m\u001B[38;5;124mFinished: \u001B[39m\u001B[38;5;132;01m{\u001B[39;00mapp\u001B[38;5;132;01m}\u001B[39;00m\u001B[38;5;124m.\u001B[39m\u001B[38;5;132;01m{\u001B[39;00margv\u001B[38;5;132;01m!r}\u001B[39;00m\u001B[38;5;124m.main()\u001B[39m\u001B[38;5;124m\"\u001B[39m)\n",
      "File \u001B[0;32m~/PycharmProjects/Medical-neural-network/Medical_neural_network/util/util.py:46\u001B[0m, in \u001B[0;36mimportstr\u001B[0;34m(module_str, from_)\u001B[0m\n\u001B[1;32m     43\u001B[0m \u001B[38;5;28;01mif\u001B[39;00m from_ \u001B[38;5;129;01mis\u001B[39;00m \u001B[38;5;28;01mNone\u001B[39;00m \u001B[38;5;129;01mand\u001B[39;00m \u001B[38;5;124m'\u001B[39m\u001B[38;5;124m:\u001B[39m\u001B[38;5;124m'\u001B[39m \u001B[38;5;129;01min\u001B[39;00m module_str:\n\u001B[1;32m     44\u001B[0m     module_str, from_ \u001B[38;5;241m=\u001B[39m module_str\u001B[38;5;241m.\u001B[39mrsplit(\u001B[38;5;124m'\u001B[39m\u001B[38;5;124m:\u001B[39m\u001B[38;5;124m'\u001B[39m)\n\u001B[0;32m---> 46\u001B[0m module \u001B[38;5;241m=\u001B[39m \u001B[38;5;28m__import__\u001B[39m(module_str)\n\u001B[1;32m     47\u001B[0m \u001B[38;5;28;01mfor\u001B[39;00m sub_str \u001B[38;5;129;01min\u001B[39;00m module_str\u001B[38;5;241m.\u001B[39msplit(\u001B[38;5;124m'\u001B[39m\u001B[38;5;124m.\u001B[39m\u001B[38;5;124m'\u001B[39m)[\u001B[38;5;241m1\u001B[39m:]:\n\u001B[1;32m     48\u001B[0m     module \u001B[38;5;241m=\u001B[39m \u001B[38;5;28mgetattr\u001B[39m(module, sub_str)\n",
      "File \u001B[0;32m~/PycharmProjects/Medical-neural-network/Medical_neural_network/training.py:16\u001B[0m\n\u001B[1;32m     13\u001B[0m \u001B[38;5;28;01mfrom\u001B[39;00m \u001B[38;5;21;01mtorch\u001B[39;00m\u001B[38;5;21;01m.\u001B[39;00m\u001B[38;5;21;01mutils\u001B[39;00m\u001B[38;5;21;01m.\u001B[39;00m\u001B[38;5;21;01mdata\u001B[39;00m \u001B[38;5;28;01mimport\u001B[39;00m DataLoader\n\u001B[1;32m     15\u001B[0m \u001B[38;5;28;01mfrom\u001B[39;00m \u001B[38;5;21;01mutil\u001B[39;00m\u001B[38;5;21;01m.\u001B[39;00m\u001B[38;5;21;01mutil\u001B[39;00m \u001B[38;5;28;01mimport\u001B[39;00m enumerateWithEstimate\n\u001B[0;32m---> 16\u001B[0m \u001B[38;5;28;01mfrom\u001B[39;00m \u001B[38;5;21;01m.\u001B[39;00m\u001B[38;5;21;01mdsets\u001B[39;00m \u001B[38;5;28;01mimport\u001B[39;00m LunaDataset\n\u001B[1;32m     17\u001B[0m \u001B[38;5;28;01mfrom\u001B[39;00m \u001B[38;5;21;01mutil\u001B[39;00m\u001B[38;5;21;01m.\u001B[39;00m\u001B[38;5;21;01mlogconf\u001B[39;00m \u001B[38;5;28;01mimport\u001B[39;00m logging\n\u001B[1;32m     18\u001B[0m \u001B[38;5;28;01mfrom\u001B[39;00m \u001B[38;5;21;01m.\u001B[39;00m\u001B[38;5;21;01mmodel\u001B[39;00m \u001B[38;5;28;01mimport\u001B[39;00m LunaModel\n",
      "\u001B[0;31mImportError\u001B[0m: attempted relative import with no known parent package"
     ]
    }
   ],
   "source": "run('prepcache.LunaPrepCacheApp')"
  },
  {
   "cell_type": "code",
   "execution_count": null,
   "id": "8aa69e47-ae36-4467-b4ea-444182ae1f48",
   "metadata": {},
   "outputs": [],
   "source": "run('training.LunaTrainingApp', '--epochs=1')"
  },
  {
   "metadata": {},
   "cell_type": "code",
   "outputs": [],
   "execution_count": null,
   "source": "run('training.LunaTrainingApp', f'--epochs={experiment_epochs}')\n",
   "id": "b6c230db7d428107"
  }
 ],
 "metadata": {
  "kernelspec": {
   "display_name": "Python 3 (ipykernel)",
   "language": "python",
   "name": "python3"
  },
  "language_info": {
   "codemirror_mode": {
    "name": "ipython",
    "version": 3
   },
   "file_extension": ".py",
   "mimetype": "text/x-python",
   "name": "python",
   "nbconvert_exporter": "python",
   "pygments_lexer": "ipython3",
   "version": "3.11.8"
  }
 },
 "nbformat": 4,
 "nbformat_minor": 5
}
